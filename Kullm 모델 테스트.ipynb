{
 "cells": [
  {
   "cell_type": "code",
   "execution_count": 1,
   "metadata": {},
   "outputs": [
    {
     "name": "stderr",
     "output_type": "stream",
     "text": [
      "/Users/nedstar/miniforge3/envs/peft_env/lib/python3.8/site-packages/tqdm/auto.py:21: TqdmWarning: IProgress not found. Please update jupyter and ipywidgets. See https://ipywidgets.readthedocs.io/en/stable/user_install.html\n",
      "  from .autonotebook import tqdm as notebook_tqdm\n"
     ]
    },
    {
     "ename": "ModuleNotFoundError",
     "evalue": "No module named 'auto_gptq'",
     "output_type": "error",
     "traceback": [
      "\u001b[0;31m---------------------------------------------------------------------------\u001b[0m",
      "\u001b[0;31mModuleNotFoundError\u001b[0m                       Traceback (most recent call last)",
      "\u001b[1;32m/Users/nedstar/Library/Mobile Documents/com~apple~CloudDocs/Initiates Database/Coding/프로젝트/법률개정안요약모델연구/Kullm 모델 테스트.ipynb 셀 1\u001b[0m line \u001b[0;36m3\n\u001b[1;32m      <a href='vscode-notebook-cell:/Users/nedstar/Library/Mobile%20Documents/com~apple~CloudDocs/Initiates%20Database/Coding/%ED%94%84%EB%A1%9C%EC%A0%9D%ED%8A%B8/%EB%B2%95%EB%A5%A0%EA%B0%9C%EC%A0%95%EC%95%88%EC%9A%94%EC%95%BD%EB%AA%A8%EB%8D%B8%EC%97%B0%EA%B5%AC/Kullm%20%EB%AA%A8%EB%8D%B8%20%ED%85%8C%EC%8A%A4%ED%8A%B8.ipynb#W0sZmlsZQ%3D%3D?line=0'>1</a>\u001b[0m \u001b[39mimport\u001b[39;00m \u001b[39mtorch\u001b[39;00m\n\u001b[1;32m      <a href='vscode-notebook-cell:/Users/nedstar/Library/Mobile%20Documents/com~apple~CloudDocs/Initiates%20Database/Coding/%ED%94%84%EB%A1%9C%EC%A0%9D%ED%8A%B8/%EB%B2%95%EB%A5%A0%EA%B0%9C%EC%A0%95%EC%95%88%EC%9A%94%EC%95%BD%EB%AA%A8%EB%8D%B8%EC%97%B0%EA%B5%AC/Kullm%20%EB%AA%A8%EB%8D%B8%20%ED%85%8C%EC%8A%A4%ED%8A%B8.ipynb#W0sZmlsZQ%3D%3D?line=1'>2</a>\u001b[0m \u001b[39mfrom\u001b[39;00m \u001b[39mtransformers\u001b[39;00m \u001b[39mimport\u001b[39;00m pipeline\n\u001b[0;32m----> <a href='vscode-notebook-cell:/Users/nedstar/Library/Mobile%20Documents/com~apple~CloudDocs/Initiates%20Database/Coding/%ED%94%84%EB%A1%9C%EC%A0%9D%ED%8A%B8/%EB%B2%95%EB%A5%A0%EA%B0%9C%EC%A0%95%EC%95%88%EC%9A%94%EC%95%BD%EB%AA%A8%EB%8D%B8%EC%97%B0%EA%B5%AC/Kullm%20%EB%AA%A8%EB%8D%B8%20%ED%85%8C%EC%8A%A4%ED%8A%B8.ipynb#W0sZmlsZQ%3D%3D?line=2'>3</a>\u001b[0m \u001b[39mfrom\u001b[39;00m \u001b[39mauto_gptq\u001b[39;00m \u001b[39mimport\u001b[39;00m AutoGPTQForCausalLM\n\u001b[1;32m      <a href='vscode-notebook-cell:/Users/nedstar/Library/Mobile%20Documents/com~apple~CloudDocs/Initiates%20Database/Coding/%ED%94%84%EB%A1%9C%EC%A0%9D%ED%8A%B8/%EB%B2%95%EB%A5%A0%EA%B0%9C%EC%A0%95%EC%95%88%EC%9A%94%EC%95%BD%EB%AA%A8%EB%8D%B8%EC%97%B0%EA%B5%AC/Kullm%20%EB%AA%A8%EB%8D%B8%20%ED%85%8C%EC%8A%A4%ED%8A%B8.ipynb#W0sZmlsZQ%3D%3D?line=4'>5</a>\u001b[0m \u001b[39mfrom\u001b[39;00m \u001b[39mutils\u001b[39;00m\u001b[39m.\u001b[39;00m\u001b[39mprompter\u001b[39;00m \u001b[39mimport\u001b[39;00m Prompter\n\u001b[1;32m      <a href='vscode-notebook-cell:/Users/nedstar/Library/Mobile%20Documents/com~apple~CloudDocs/Initiates%20Database/Coding/%ED%94%84%EB%A1%9C%EC%A0%9D%ED%8A%B8/%EB%B2%95%EB%A5%A0%EA%B0%9C%EC%A0%95%EC%95%88%EC%9A%94%EC%95%BD%EB%AA%A8%EB%8D%B8%EC%97%B0%EA%B5%AC/Kullm%20%EB%AA%A8%EB%8D%B8%20%ED%85%8C%EC%8A%A4%ED%8A%B8.ipynb#W0sZmlsZQ%3D%3D?line=6'>7</a>\u001b[0m MODEL \u001b[39m=\u001b[39m \u001b[39m\"\u001b[39m\u001b[39mj5ng/kullm-5.8b-GPTQ-8bit\u001b[39m\u001b[39m\"\u001b[39m\n",
      "\u001b[0;31mModuleNotFoundError\u001b[0m: No module named 'auto_gptq'"
     ]
    }
   ],
   "source": [
    "import torch\n",
    "from transformers import pipeline\n",
    "from auto_gptq import AutoGPTQForCausalLM\n",
    "\n",
    "from utils.prompter import Prompter\n",
    "\n",
    "MODEL = \"j5ng/kullm-5.8b-GPTQ-8bit\"\n",
    "model = AutoGPTQForCausalLM.from_quantized(MODEL, device=\"cuda:0\", use_triton=False)\n",
    "\n",
    "pipe = pipeline('text-generation', model=model,tokenizer=MODEL)\n",
    "\n",
    "prompter = Prompter(\"kullm\")\n",
    "\n",
    "def infer(instruction=\"\", input_text=\"\"):\n",
    "    prompt = prompter.generate_prompt(instruction, input_text)\n",
    "    output = pipe(\n",
    "        prompt, max_length=512,\n",
    "        temperature=0.2,\n",
    "        repetition_penalty=3.0,\n",
    "        num_beams=5,\n",
    "        eos_token_id=2\n",
    "    )\n",
    "    s = output[0][\"generated_text\"]\n",
    "    result = prompter.get_response(s)\n",
    "\n",
    "    return result\n",
    "\n",
    "instruction = \"\"\"\n",
    "손흥민(한국 한자: 孫興慜, 1992년 7월 8일 ~ )은 대한민국의 축구 선수로 현재 잉글랜드 프리미어리그 토트넘 홋스퍼에서 윙어로 활약하고 있다.\n",
    "또한 대한민국 축구 국가대표팀의 주장이자 2018년 아시안 게임 금메달리스트이며 영국에서는 애칭인 \"쏘니\"(Sonny)로 불린다.\n",
    "아시아 선수로서는 역대 최초로 프리미어리그 공식 베스트 일레븐과 아시아 선수 최초의 프리미어리그 득점왕은 물론 FIFA 푸스카스상까지 휩쓸었고 2022년에는 축구 선수로는 최초로 체육훈장 청룡장 수훈자가 되었다.\n",
    "손흥민은 현재 리그 100호를 넣어서 화제가 되고 있다.\n",
    "\"\"\"\n",
    "result = infer(instruction=instruction, input_text=\"손흥민의 애칭은 뭐야?\")\n",
    "print(result) # 손흥민의 애칭은 Sonny입니다.\n"
   ]
  }
 ],
 "metadata": {
  "kernelspec": {
   "display_name": "peft_env",
   "language": "python",
   "name": "python3"
  },
  "language_info": {
   "codemirror_mode": {
    "name": "ipython",
    "version": 3
   },
   "file_extension": ".py",
   "mimetype": "text/x-python",
   "name": "python",
   "nbconvert_exporter": "python",
   "pygments_lexer": "ipython3",
   "version": "3.8.17"
  },
  "orig_nbformat": 4
 },
 "nbformat": 4,
 "nbformat_minor": 2
}
